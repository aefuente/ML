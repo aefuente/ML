{
 "cells": [
  {
   "cell_type": "markdown",
   "metadata": {},
   "source": [
    "# School Dataset\n",
    "The goal of this project is to predict the placement status of students based on specific variables. Another goal is to predict the salaries these students will make. I plan to use regression algorithms to solve this task."
   ]
  },
  {
   "cell_type": "markdown",
   "metadata": {},
   "source": [
    "# Importing the data"
   ]
  },
  {
   "cell_type": "code",
   "execution_count": 90,
   "metadata": {},
   "outputs": [
    {
     "name": "stdout",
     "output_type": "stream",
     "text": [
      "<class 'pandas.core.frame.DataFrame'>\n",
      "RangeIndex: 215 entries, 0 to 214\n",
      "Data columns (total 15 columns):\n",
      " #   Column          Non-Null Count  Dtype  \n",
      "---  ------          --------------  -----  \n",
      " 0   sl_no           215 non-null    int64  \n",
      " 1   gender          215 non-null    object \n",
      " 2   ssc_p           215 non-null    float64\n",
      " 3   ssc_b           215 non-null    object \n",
      " 4   hsc_p           215 non-null    float64\n",
      " 5   hsc_b           215 non-null    object \n",
      " 6   hsc_s           215 non-null    object \n",
      " 7   degree_p        215 non-null    float64\n",
      " 8   degree_t        215 non-null    object \n",
      " 9   workex          215 non-null    object \n",
      " 10  etest_p         215 non-null    float64\n",
      " 11  specialisation  215 non-null    object \n",
      " 12  mba_p           215 non-null    float64\n",
      " 13  status          215 non-null    object \n",
      " 14  salary          148 non-null    float64\n",
      "dtypes: float64(6), int64(1), object(8)\n",
      "memory usage: 25.3+ KB\n"
     ]
    }
   ],
   "source": [
    "import pandas as pd\n",
    "import numpy as np\n",
    "PLACEMENT_PATH = \"./datasets_596958_1073629_Placement_Data_Full_Class.csv\"\n",
    "\n",
    "def load_placement_data(PATH=PLACEMENT_PATH):\n",
    "    return pd.read_csv(PATH)\n",
    "\n",
    "placement = load_placement_data()\n",
    "placement.info()\n",
    "    "
   ]
  },
  {
   "cell_type": "markdown",
   "metadata": {},
   "source": [
    "# Understanding the data"
   ]
  },
  {
   "cell_type": "code",
   "execution_count": 91,
   "metadata": {},
   "outputs": [
    {
     "data": {
      "text/html": [
       "<div>\n",
       "<style scoped>\n",
       "    .dataframe tbody tr th:only-of-type {\n",
       "        vertical-align: middle;\n",
       "    }\n",
       "\n",
       "    .dataframe tbody tr th {\n",
       "        vertical-align: top;\n",
       "    }\n",
       "\n",
       "    .dataframe thead th {\n",
       "        text-align: right;\n",
       "    }\n",
       "</style>\n",
       "<table border=\"1\" class=\"dataframe\">\n",
       "  <thead>\n",
       "    <tr style=\"text-align: right;\">\n",
       "      <th></th>\n",
       "      <th>sl_no</th>\n",
       "      <th>ssc_p</th>\n",
       "      <th>hsc_p</th>\n",
       "      <th>degree_p</th>\n",
       "      <th>etest_p</th>\n",
       "      <th>mba_p</th>\n",
       "      <th>salary</th>\n",
       "    </tr>\n",
       "  </thead>\n",
       "  <tbody>\n",
       "    <tr>\n",
       "      <th>count</th>\n",
       "      <td>215.000000</td>\n",
       "      <td>215.000000</td>\n",
       "      <td>215.000000</td>\n",
       "      <td>215.000000</td>\n",
       "      <td>215.000000</td>\n",
       "      <td>215.000000</td>\n",
       "      <td>148.000000</td>\n",
       "    </tr>\n",
       "    <tr>\n",
       "      <th>mean</th>\n",
       "      <td>108.000000</td>\n",
       "      <td>67.303395</td>\n",
       "      <td>66.333163</td>\n",
       "      <td>66.370186</td>\n",
       "      <td>72.100558</td>\n",
       "      <td>62.278186</td>\n",
       "      <td>288655.405405</td>\n",
       "    </tr>\n",
       "    <tr>\n",
       "      <th>std</th>\n",
       "      <td>62.209324</td>\n",
       "      <td>10.827205</td>\n",
       "      <td>10.897509</td>\n",
       "      <td>7.358743</td>\n",
       "      <td>13.275956</td>\n",
       "      <td>5.833385</td>\n",
       "      <td>93457.452420</td>\n",
       "    </tr>\n",
       "    <tr>\n",
       "      <th>min</th>\n",
       "      <td>1.000000</td>\n",
       "      <td>40.890000</td>\n",
       "      <td>37.000000</td>\n",
       "      <td>50.000000</td>\n",
       "      <td>50.000000</td>\n",
       "      <td>51.210000</td>\n",
       "      <td>200000.000000</td>\n",
       "    </tr>\n",
       "    <tr>\n",
       "      <th>25%</th>\n",
       "      <td>54.500000</td>\n",
       "      <td>60.600000</td>\n",
       "      <td>60.900000</td>\n",
       "      <td>61.000000</td>\n",
       "      <td>60.000000</td>\n",
       "      <td>57.945000</td>\n",
       "      <td>240000.000000</td>\n",
       "    </tr>\n",
       "    <tr>\n",
       "      <th>50%</th>\n",
       "      <td>108.000000</td>\n",
       "      <td>67.000000</td>\n",
       "      <td>65.000000</td>\n",
       "      <td>66.000000</td>\n",
       "      <td>71.000000</td>\n",
       "      <td>62.000000</td>\n",
       "      <td>265000.000000</td>\n",
       "    </tr>\n",
       "    <tr>\n",
       "      <th>75%</th>\n",
       "      <td>161.500000</td>\n",
       "      <td>75.700000</td>\n",
       "      <td>73.000000</td>\n",
       "      <td>72.000000</td>\n",
       "      <td>83.500000</td>\n",
       "      <td>66.255000</td>\n",
       "      <td>300000.000000</td>\n",
       "    </tr>\n",
       "    <tr>\n",
       "      <th>max</th>\n",
       "      <td>215.000000</td>\n",
       "      <td>89.400000</td>\n",
       "      <td>97.700000</td>\n",
       "      <td>91.000000</td>\n",
       "      <td>98.000000</td>\n",
       "      <td>77.890000</td>\n",
       "      <td>940000.000000</td>\n",
       "    </tr>\n",
       "  </tbody>\n",
       "</table>\n",
       "</div>"
      ],
      "text/plain": [
       "            sl_no       ssc_p       hsc_p    degree_p     etest_p       mba_p  \\\n",
       "count  215.000000  215.000000  215.000000  215.000000  215.000000  215.000000   \n",
       "mean   108.000000   67.303395   66.333163   66.370186   72.100558   62.278186   \n",
       "std     62.209324   10.827205   10.897509    7.358743   13.275956    5.833385   \n",
       "min      1.000000   40.890000   37.000000   50.000000   50.000000   51.210000   \n",
       "25%     54.500000   60.600000   60.900000   61.000000   60.000000   57.945000   \n",
       "50%    108.000000   67.000000   65.000000   66.000000   71.000000   62.000000   \n",
       "75%    161.500000   75.700000   73.000000   72.000000   83.500000   66.255000   \n",
       "max    215.000000   89.400000   97.700000   91.000000   98.000000   77.890000   \n",
       "\n",
       "              salary  \n",
       "count     148.000000  \n",
       "mean   288655.405405  \n",
       "std     93457.452420  \n",
       "min    200000.000000  \n",
       "25%    240000.000000  \n",
       "50%    265000.000000  \n",
       "75%    300000.000000  \n",
       "max    940000.000000  "
      ]
     },
     "execution_count": 91,
     "metadata": {},
     "output_type": "execute_result"
    }
   ],
   "source": [
    "placement.describe()"
   ]
  },
  {
   "cell_type": "code",
   "execution_count": 92,
   "metadata": {},
   "outputs": [
    {
     "data": {
      "text/plain": [
       "array([[<AxesSubplot:title={'center':'sl_no'}>,\n",
       "        <AxesSubplot:title={'center':'ssc_p'}>,\n",
       "        <AxesSubplot:title={'center':'hsc_p'}>],\n",
       "       [<AxesSubplot:title={'center':'degree_p'}>,\n",
       "        <AxesSubplot:title={'center':'etest_p'}>,\n",
       "        <AxesSubplot:title={'center':'mba_p'}>],\n",
       "       [<AxesSubplot:title={'center':'salary'}>, <AxesSubplot:>,\n",
       "        <AxesSubplot:>]], dtype=object)"
      ]
     },
     "execution_count": 92,
     "metadata": {},
     "output_type": "execute_result"
    },
    {
     "data": {
      "image/png": "[encoded data removed]",
      "text/plain": [
       "<Figure size 1440x1080 with 9 Axes>"
      ]
     },
     "metadata": {
      "needs_background": "light"
     },
     "output_type": "display_data"
    }
   ],
   "source": [
    "%matplotlib inline\n",
    "\n",
    "import matplotlib.pyplot as plt\n",
    "placement.hist(bins=50, figsize=(20,15))"
   ]
  },
  {
   "cell_type": "markdown",
   "metadata": {},
   "source": [
    "# Stratify the data\n",
    "I believe the biggest predictor in salary will be the placement status of the students. To get a decent test set I made the groups \"Placed\" and \"Not placed\" proportional to how they appear in the entire set."
   ]
  },
  {
   "cell_type": "code",
   "execution_count": 93,
   "metadata": {},
   "outputs": [
    {
     "name": "stdout",
     "output_type": "stream",
     "text": [
      "0.6883720930232559\n"
     ]
    }
   ],
   "source": [
    "count = 0\n",
    "for item in placement[\"status\"]:\n",
    "    if (item == \"Placed\"):\n",
    "        count = count +1\n",
    "print(count/len(placement[\"status\"]))"
   ]
  },
  {
   "cell_type": "code",
   "execution_count": 94,
   "metadata": {},
   "outputs": [
    {
     "data": {
      "text/plain": [
       "<AxesSubplot:>"
      ]
     },
     "execution_count": 94,
     "metadata": {},
     "output_type": "execute_result"
    },
    {
     "data": {
      "image/png": "[encoded data removed]",
      "text/plain": [
       "<Figure size 432x288 with 1 Axes>"
      ]
     },
     "metadata": {
      "needs_background": "light"
     },
     "output_type": "display_data"
    }
   ],
   "source": [
    "placement[\"status\"].hist()"
   ]
  },
  {
   "cell_type": "code",
   "execution_count": 95,
   "metadata": {},
   "outputs": [],
   "source": [
    "from sklearn.model_selection import StratifiedShuffleSplit\n",
    "\n",
    "split = StratifiedShuffleSplit(n_splits=1, test_size =.2, random_state=42)\n",
    "for train_index, test_index in split.split(placement, placement[\"status\"]):\n",
    "    strat_train_set = placement.loc[train_index]\n",
    "    strat_test_set = placement.loc[test_index]"
   ]
  },
  {
   "cell_type": "code",
   "execution_count": 96,
   "metadata": {},
   "outputs": [
    {
     "name": "stdout",
     "output_type": "stream",
     "text": [
      "0.6976744186046512\n"
     ]
    }
   ],
   "source": [
    "count = 0\n",
    "for item in strat_test_set[\"status\"]:\n",
    "    if (item == \"Placed\"):\n",
    "        count = count +1\n",
    "print(count/len(strat_test_set))"
   ]
  },
  {
   "cell_type": "code",
   "execution_count": 97,
   "metadata": {},
   "outputs": [
    {
     "name": "stdout",
     "output_type": "stream",
     "text": [
      "<class 'pandas.core.frame.DataFrame'>\n",
      "Int64Index: 172 entries, 147 to 196\n",
      "Data columns (total 14 columns):\n",
      " #   Column          Non-Null Count  Dtype  \n",
      "---  ------          --------------  -----  \n",
      " 0   sl_no           172 non-null    int64  \n",
      " 1   gender          172 non-null    object \n",
      " 2   ssc_p           172 non-null    float64\n",
      " 3   ssc_b           172 non-null    object \n",
      " 4   hsc_p           172 non-null    float64\n",
      " 5   hsc_b           172 non-null    object \n",
      " 6   hsc_s           172 non-null    object \n",
      " 7   degree_p        172 non-null    float64\n",
      " 8   degree_t        172 non-null    object \n",
      " 9   workex          172 non-null    object \n",
      " 10  etest_p         172 non-null    float64\n",
      " 11  specialisation  172 non-null    object \n",
      " 12  mba_p           172 non-null    float64\n",
      " 13  status          172 non-null    object \n",
      "dtypes: float64(5), int64(1), object(8)\n",
      "memory usage: 20.2+ KB\n"
     ]
    }
   ],
   "source": [
    "placement = strat_train_set.copy()\n",
    "placement_labels = placement[[\"salary\"]]\n",
    "placement.drop([\"salary\"], axis=1, inplace =True)\n",
    "placement.info()"
   ]
  },
  {
   "cell_type": "markdown",
   "metadata": {},
   "source": [
    "# Data cleaning and preperation\n",
    "If we look into the data there are many categorical values mostly between two categories, but sometimes three. I would like to use a regression algorithm on this data so I used an ordinal encoder for this data and scaled it with minmax.\n",
    "\n",
    "There are also some numerical values that I scaled using minmax\n",
    "\n",
    "Finally, you can see that there is some null values for the salaries. This is due to the students not having a job. I used an imputer with a constant value of 0 to fill in this data and scaled it using minmax."
   ]
  },
  {
   "cell_type": "code",
   "execution_count": 98,
   "metadata": {},
   "outputs": [],
   "source": [
    "from sklearn.impute import SimpleImputer\n",
    "imputer = SimpleImputer(strategy='constant')"
   ]
  },
  {
   "cell_type": "code",
   "execution_count": 99,
   "metadata": {},
   "outputs": [],
   "source": [
    "from sklearn.pipeline import Pipeline\n",
    "from sklearn.preprocessing import MinMaxScaler\n",
    "from sklearn.compose import ColumnTransformer\n",
    "from sklearn.preprocessing import OrdinalEncoder\n",
    "ordinal_encoder = OrdinalEncoder()\n",
    "\n",
    "cat_attribs = [\"gender\", \"ssc_b\", \"hsc_b\", \"hsc_s\", \"degree_t\", \"workex\", \"specialisation\", \"status\"]\n",
    "num_attribs = [\"ssc_p\", \"hsc_p\", \"degree_p\", \"etest_p\", \"mba_p\"]\n",
    "\n",
    "pipeline = Pipeline([\n",
    "    ('imputer', SimpleImputer(strategy=\"constant\")),\n",
    "    ('scaler', MinMaxScaler()),\n",
    "])\n",
    "\n",
    "catpipe = Pipeline([\n",
    "    ('encoder', OrdinalEncoder()),\n",
    "    ('scaler', MinMaxScaler()),\n",
    "])\n",
    "\n",
    "\n",
    "full_data_pipeline = ColumnTransformer([\n",
    "    (\"cat\", catpipe, cat_attribs),\n",
    "    (\"num\", pipeline, num_attribs),\n",
    "])\n",
    "\n",
    "label_pipeline = Pipeline([\n",
    "    ('imputer', SimpleImputer(strategy=\"constant\"))\n",
    "])\n",
    "\n",
    "placement_prep = full_data_pipeline.fit_transform(placement)\n",
    "placement_label_prep = label_pipeline.fit_transform(placement_labels)"
   ]
  },
  {
   "cell_type": "markdown",
   "metadata": {},
   "source": [
    "# Linear Regression model"
   ]
  },
  {
   "cell_type": "code",
   "execution_count": 100,
   "metadata": {},
   "outputs": [
    {
     "data": {
      "text/plain": [
       "LinearRegression()"
      ]
     },
     "execution_count": 100,
     "metadata": {},
     "output_type": "execute_result"
    }
   ],
   "source": [
    "from sklearn.linear_model import LinearRegression\n",
    "\n",
    "lin_reg = LinearRegression()\n",
    "placement_label_prep = np.ravel(placement_label_prep)\n",
    "lin_reg.fit(placement_prep, placement_label_prep)"
   ]
  },
  {
   "cell_type": "code",
   "execution_count": 101,
   "metadata": {},
   "outputs": [
    {
     "name": "stdout",
     "output_type": "stream",
     "text": [
      "Predictions: [310825.26936141 -15377.36705318   6278.25736382 294217.48339909\n",
      " 265115.29012195]\n",
      "Labels: [300000.0, 0.0, 0.0, 360000.0, 265000.0]\n"
     ]
    }
   ],
   "source": [
    "some_data = placement_prep[:5]\n",
    "some_labels = placement_label_prep[:5]\n",
    "print(\"Predictions:\", lin_reg.predict(some_data))\n",
    "print(\"Labels:\", list(some_labels))"
   ]
  },
  {
   "cell_type": "code",
   "execution_count": 102,
   "metadata": {},
   "outputs": [
    {
     "name": "stdout",
     "output_type": "stream",
     "text": [
      "79009.8939671857\n"
     ]
    }
   ],
   "source": [
    "from sklearn.metrics import mean_squared_error\n",
    "placement_predictions = lin_reg.predict(placement_prep)\n",
    "lin_mse = mean_squared_error(placement_label_prep, placement_predictions)\n",
    "lin_rmse = np.sqrt(lin_mse)\n",
    "print(lin_rmse)\n"
   ]
  },
  {
   "cell_type": "markdown",
   "metadata": {},
   "source": [
    "### Results\n",
    "A typical prediction error of $79,000 is less than acceptable. It's possible we could squeeze more acceptable results by fine tuning the model, but I am going to try a more complex model"
   ]
  },
  {
   "cell_type": "markdown",
   "metadata": {},
   "source": [
    "test = strat_test_set.copy()\n",
    "labels = test[[\"salary\"]]\n",
    "test.drop(\"salary\", axis=1, inplace=True)\n",
    "test_prep = full_data_pipeline.fit_transform(test)\n",
    "labels_prep = label_pipeline.fit_transform(labels)\n",
    "\n",
    "some_data = test_prep[:5]\n",
    "some_labels = labels_prep[:5]\n",
    "print(\"Predictions:\", lin_reg.predict(some_data))\n",
    "print(\"Labels:\", list(some_labels))"
   ]
  },
  {
   "cell_type": "code",
   "execution_count": 123,
   "metadata": {},
   "outputs": [
    {
     "name": "stdout",
     "output_type": "stream",
     "text": [
      "33114.01025245961\n"
     ]
    }
   ],
   "source": [
    "from sklearn.ensemble import RandomForestRegressor\n",
    "forest_reg = RandomForestRegressor()\n",
    "forest_reg.fit(placement_prep, placement_label_prep)\n",
    "\n",
    "placement_predictions = forest_reg.predict(placement_prep)\n",
    "forest_mse = mean_squared_error(placement_label_prep, placement_predictions)\n",
    "forest_rmse = np.sqrt(forest_mse)\n",
    "print(forest_rmse)"
   ]
  },
  {
   "cell_type": "markdown",
   "metadata": {},
   "source": [
    "### Ensemble results\n",
    "This is much better! A 40% increase in performace! Lets fine tune the model to get everything we can out of it.\n",
    "\n",
    "For this I am going to use a grid search to fine tune the _hyperparameters_\n"
   ]
  },
  {
   "cell_type": "code",
   "execution_count": 127,
   "metadata": {},
   "outputs": [
    {
     "name": "stdout",
     "output_type": "stream",
     "text": [
      "{'max_features': 5, 'n_estimators': 200}\n",
      "RandomForestRegressor(max_features=5, n_estimators=200)\n"
     ]
    }
   ],
   "source": [
    "from sklearn.model_selection import GridSearchCV\n",
    "\n",
    "param_grid = [\n",
    "    {'n_estimators': [5, 10, 200], 'max_features': [5, 8, 10, 12,13]},\n",
    "]\n",
    "\n",
    "forest_reg = RandomForestRegressor()\n",
    "grid_search = GridSearchCV(forest_reg, param_grid, cv=5, scoring='neg_mean_squared_error', return_train_score=True)\n",
    "grid_search.fit(placement_prep, placement_label_prep)\n",
    "print(grid_search.best_params_)\n",
    "print(grid_search.best_estimator_)\n"
   ]
  },
  {
   "cell_type": "code",
   "execution_count": 128,
   "metadata": {},
   "outputs": [
    {
     "name": "stdout",
     "output_type": "stream",
     "text": [
      "100601.83849832814 {'max_features': 5, 'n_estimators': 5}\n",
      "93229.35658585103 {'max_features': 5, 'n_estimators': 10}\n",
      "88452.93845699231 {'max_features': 5, 'n_estimators': 200}\n",
      "98394.8944156089 {'max_features': 8, 'n_estimators': 5}\n",
      "92974.44961209649 {'max_features': 8, 'n_estimators': 10}\n",
      "89165.50671710247 {'max_features': 8, 'n_estimators': 200}\n",
      "98645.94961167901 {'max_features': 10, 'n_estimators': 5}\n",
      "89103.10909513858 {'max_features': 10, 'n_estimators': 10}\n",
      "88552.76555081428 {'max_features': 10, 'n_estimators': 200}\n",
      "99622.70488061992 {'max_features': 12, 'n_estimators': 5}\n",
      "94116.75343588369 {'max_features': 12, 'n_estimators': 10}\n",
      "90793.48002539526 {'max_features': 12, 'n_estimators': 200}\n",
      "93695.6258989983 {'max_features': 13, 'n_estimators': 5}\n",
      "94253.63696257173 {'max_features': 13, 'n_estimators': 10}\n",
      "89732.39946049017 {'max_features': 13, 'n_estimators': 200}\n"
     ]
    }
   ],
   "source": [
    "cvres = grid_search.cv_results_\n",
    "for mean_score, params in zip(cvres[\"mean_test_score\"], cvres[\"params\"]):\n",
    "    print(np.sqrt(-mean_score), params)"
   ]
  },
  {
   "cell_type": "code",
   "execution_count": 130,
   "metadata": {},
   "outputs": [
    {
     "data": {
      "text/plain": [
       "[(0.47296637391732466, 'status'),\n",
       " (0.16059912207016216, 'ssc_p'),\n",
       " (0.10680966854229956, 'degree_p'),\n",
       " (0.09171838853926828, 'hsc_p'),\n",
       " (0.05683320654156233, 'mba_p'),\n",
       " (0.03873963651300495, 'etest_p'),\n",
       " (0.017451792806683922, 'workex'),\n",
       " (0.01271980668245032, 'degree_t'),\n",
       " (0.011568704289886858, 'specialisation'),\n",
       " (0.008849211553362244, 'gender'),\n",
       " (0.008655909173070506, 'ssc_b'),\n",
       " (0.006919007884999088, 'hsc_b'),\n",
       " (0.006169171485925061, 'hsc_s')]"
      ]
     },
     "execution_count": 130,
     "metadata": {},
     "output_type": "execute_result"
    }
   ],
   "source": [
    "feature_importances = grid_search.best_estimator_.feature_importances_\n",
    "attributes = cat_attribs+ num_attribs\n",
    "sorted(zip(feature_importances, attributes), reverse=True)"
   ]
  }
 ],
 "metadata": {
  "kernelspec": {
   "display_name": "python3ML",
   "language": "python",
   "name": "python3ml"
  },
  "language_info": {
   "codemirror_mode": {
    "name": "ipython",
    "version": 3
   },
   "file_extension": ".py",
   "mimetype": "text/x-python",
   "name": "python",
   "nbconvert_exporter": "python",
   "pygments_lexer": "ipython3",
   "version": "3.7.3"
  }
 },
 "nbformat": 4,
 "nbformat_minor": 4
}
